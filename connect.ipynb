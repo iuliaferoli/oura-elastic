{
 "cells": [
  {
   "cell_type": "markdown",
   "metadata": {},
   "source": [
    "# Explore Oura User Data with Elaticsearch & Kibana"
   ]
  },
  {
   "cell_type": "markdown",
   "metadata": {},
   "source": [
    "Oura Documentation for the Developer API: https://cloud.ouraring.com/v2/docs "
   ]
  },
  {
   "cell_type": "code",
   "execution_count": null,
   "metadata": {},
   "outputs": [],
   "source": [
    "! pip install -r requirements.txt\n",
    "import requests \n",
    "import json\n",
    "from elasticsearch import Elasticsearch, helpers\n",
    "from getpass import getpass"
   ]
  },
  {
   "cell_type": "markdown",
   "metadata": {},
   "source": [
    "Generating an auth token for your account: https://cloud.ouraring.com/docs/authentication"
   ]
  },
  {
   "cell_type": "code",
   "execution_count": 44,
   "metadata": {},
   "outputs": [],
   "source": [
    "auth_token = getpass(\"auth token: \")"
   ]
  },
  {
   "cell_type": "code",
   "execution_count": 43,
   "metadata": {},
   "outputs": [],
   "source": [
    "def get_data(type):\n",
    "  url = 'https://api.ouraring.com/v2/usercollection/' + type\n",
    "  params={ \n",
    "      'start_date': '2021-11-01', \n",
    "      'end_date': '2025-01-01' \n",
    "  }\n",
    "  headers = { \n",
    "    'Authorization': 'Bearer ' + auth_token \n",
    "  }\n",
    "  response = requests.request('GET', url, headers=headers, params=params) \n",
    "  return response.json()[\"data\"]"
   ]
  },
  {
   "cell_type": "code",
   "execution_count": 40,
   "metadata": {},
   "outputs": [],
   "source": [
    "data = get_data(\"daily_activity\")\n",
    "with open('oura_data_activity.json', 'w', encoding='utf-8') as f:\n",
    "    json.dump(data, f, ensure_ascii=False, indent=4)"
   ]
  },
  {
   "cell_type": "code",
   "execution_count": 41,
   "metadata": {},
   "outputs": [],
   "source": [
    "data = get_data(\"sleep\")\n",
    "with open('oura_data_sleep.json', 'w', encoding='utf-8') as f:\n",
    "    json.dump(data, f, ensure_ascii=False, indent=4)"
   ]
  },
  {
   "cell_type": "markdown",
   "metadata": {},
   "source": [
    "## Get the data into elastic"
   ]
  },
  {
   "cell_type": "code",
   "execution_count": 53,
   "metadata": {},
   "outputs": [],
   "source": [
    "#Connect to the elastic cloud server\n",
    "ELASTIC_CLOUD_ID = getpass(\"Elastic Cloud ID: \")\n",
    "ELASTIC_API_KEY = getpass(\"Elastic API Key: \")\n",
    "\n",
    "# Create an Elasticsearch client using the provided credentials\n",
    "client = Elasticsearch(\n",
    "    cloud_id=ELASTIC_CLOUD_ID,  # cloud id can be found under deployment management\n",
    "    api_key=ELASTIC_API_KEY, # your username and password for connecting to elastic, found under Deplouments - Security\n",
    ")"
   ]
  },
  {
   "cell_type": "code",
   "execution_count": null,
   "metadata": {},
   "outputs": [],
   "source": [
    "index_name = 'oura-history-sleep'\n",
    "\n",
    "# Create the Elasticsearch index with the specified name (delete if already existing)\n",
    "if client.indices.exists(index=index_name):\n",
    "    client.indices.delete(index=index_name)\n",
    "client.indices.create(index=index_name)\n",
    "\n",
    "with open(\"oura_data_sleep.json\", \"r\") as f:\n",
    "    json_data = json.load(f)\n",
    "    documents = []\n",
    "    for doc in json_data:\n",
    "        documents.append(doc)\n",
    "    load = helpers.bulk(client, documents, index=index_name)"
   ]
  },
  {
   "cell_type": "markdown",
   "metadata": {},
   "source": [
    "We can now search our data:"
   ]
  },
  {
   "cell_type": "code",
   "execution_count": 59,
   "metadata": {},
   "outputs": [
    {
     "name": "stdout",
     "output_type": "stream",
     "text": [
      "We get back 137 results, here are the first ones:\n",
      "Heart rate average: 62.5 and sleeping score: 89\n",
      "Heart rate average: 62.5 and sleeping score: 57\n",
      "Heart rate average: 65.25 and sleeping score: 80\n",
      "Heart rate average: 62.375 and sleeping score: 91\n",
      "Heart rate average: 64.625 and sleeping score: 81\n",
      "Heart rate average: 66.375 and sleeping score: 46\n",
      "Heart rate average: 62.875 and sleeping score: 84\n",
      "Heart rate average: 62.25 and sleeping score: 87\n",
      "Heart rate average: 63.75 and sleeping score: 84\n",
      "Heart rate average: 63.75 and sleeping score: 92\n"
     ]
    }
   ],
   "source": [
    "index_name = 'oura-history-sleep'\n",
    "\n",
    "response = client.search(index=index_name, size=10)\n",
    "\n",
    "print(\"We get back {total} results, here are the first ones:\".format(total=response[\"hits\"]['total']['value']))\n",
    "for hit in response[\"hits\"][\"hits\"]:\n",
    "    print(\"Heart rate average: {hra} and sleeping score: {score}\".format(hra=hit['_source']['average_heart_rate'], score= hit['_source']['readiness']['score']))"
   ]
  }
 ],
 "metadata": {
  "kernelspec": {
   "display_name": ".venv",
   "language": "python",
   "name": "python3"
  },
  "language_info": {
   "codemirror_mode": {
    "name": "ipython",
    "version": 3
   },
   "file_extension": ".py",
   "mimetype": "text/x-python",
   "name": "python",
   "nbconvert_exporter": "python",
   "pygments_lexer": "ipython3",
   "version": "3.10.0"
  },
  "orig_nbformat": 4
 },
 "nbformat": 4,
 "nbformat_minor": 2
}
