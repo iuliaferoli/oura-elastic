{
 "cells": [
  {
   "cell_type": "markdown",
   "metadata": {},
   "source": [
    "# Explore Oura User Data with Elaticsearch & Kibana"
   ]
  },
  {
   "cell_type": "markdown",
   "metadata": {},
   "source": [
    "Oura Documentation for the Developer API: https://cloud.ouraring.com/v2/docs "
   ]
  },
  {
   "cell_type": "code",
   "execution_count": 1,
   "metadata": {},
   "outputs": [
    {
     "name": "stdout",
     "output_type": "stream",
     "text": [
      "Requirement already satisfied: requests in ./.venv/lib/python3.10/site-packages (from -r requirements.txt (line 1)) (2.32.3)\n",
      "Requirement already satisfied: elasticsearch in ./.venv/lib/python3.10/site-packages (from -r requirements.txt (line 2)) (8.17.1)\n",
      "Requirement already satisfied: charset-normalizer<4,>=2 in ./.venv/lib/python3.10/site-packages (from requests->-r requirements.txt (line 1)) (3.4.1)\n",
      "Requirement already satisfied: idna<4,>=2.5 in ./.venv/lib/python3.10/site-packages (from requests->-r requirements.txt (line 1)) (3.10)\n",
      "Requirement already satisfied: urllib3<3,>=1.21.1 in ./.venv/lib/python3.10/site-packages (from requests->-r requirements.txt (line 1)) (2.3.0)\n",
      "Requirement already satisfied: certifi>=2017.4.17 in ./.venv/lib/python3.10/site-packages (from requests->-r requirements.txt (line 1)) (2024.12.14)\n",
      "Requirement already satisfied: elastic-transport<9,>=8.15.1 in ./.venv/lib/python3.10/site-packages (from elasticsearch->-r requirements.txt (line 2)) (8.17.0)\n"
     ]
    }
   ],
   "source": [
    "! pip install -r requirements.txt\n",
    "import requests \n",
    "import json\n",
    "from elasticsearch import Elasticsearch, helpers\n",
    "from getpass import getpass"
   ]
  },
  {
   "cell_type": "markdown",
   "metadata": {},
   "source": [
    "Generating an auth token for your account: https://cloud.ouraring.com/docs/authentication"
   ]
  },
  {
   "cell_type": "code",
   "execution_count": 44,
   "metadata": {},
   "outputs": [],
   "source": [
    "auth_token = getpass(\"auth token: \")"
   ]
  },
  {
   "cell_type": "markdown",
   "metadata": {},
   "source": [
    "Getting an initial data dump of all the daily activity and sleep history and saving it in json files."
   ]
  },
  {
   "cell_type": "code",
   "execution_count": 43,
   "metadata": {},
   "outputs": [],
   "source": [
    "def get_data(type):\n",
    "  url = 'https://api.ouraring.com/v2/usercollection/' + type\n",
    "  params={ \n",
    "      'start_date': '2021-11-01', \n",
    "      'end_date': '2025-01-01' \n",
    "  }\n",
    "  headers = { \n",
    "    'Authorization': 'Bearer ' + auth_token \n",
    "  }\n",
    "  response = requests.request('GET', url, headers=headers, params=params) \n",
    "  return response.json()[\"data\"]"
   ]
  },
  {
   "cell_type": "code",
   "execution_count": 40,
   "metadata": {},
   "outputs": [],
   "source": [
    "data = get_data(\"daily_activity\")\n",
    "with open('oura_data_activity.json', 'w', encoding='utf-8') as f:\n",
    "    json.dump(data, f, ensure_ascii=False, indent=4)"
   ]
  },
  {
   "cell_type": "code",
   "execution_count": 41,
   "metadata": {},
   "outputs": [],
   "source": [
    "data = get_data(\"sleep\")\n",
    "with open('oura_data_sleep.json', 'w', encoding='utf-8') as f:\n",
    "    json.dump(data, f, ensure_ascii=False, indent=4)"
   ]
  },
  {
   "cell_type": "markdown",
   "metadata": {},
   "source": [
    "## Get the data into elastic"
   ]
  },
  {
   "cell_type": "code",
   "execution_count": 2,
   "metadata": {},
   "outputs": [],
   "source": [
    "#Connect to the elastic cloud server\n",
    "ELASTIC_CLOUD_ID = getpass(\"Elastic Cloud ID: \")\n",
    "ELASTIC_API_KEY = getpass(\"Elastic API Key: \")\n",
    "\n",
    "# Create an Elasticsearch client using the provided credentials\n",
    "client = Elasticsearch(\n",
    "    cloud_id=ELASTIC_CLOUD_ID,  # cloud id can be found under deployment management\n",
    "    api_key=ELASTIC_API_KEY, # your username and password for connecting to elastic, found under Deplouments - Security\n",
    ")"
   ]
  },
  {
   "cell_type": "code",
   "execution_count": null,
   "metadata": {},
   "outputs": [],
   "source": [
    "index_name = 'oura-history-sleep'\n",
    "\n",
    "# Create the Elasticsearch index with the specified name (delete if already existing)\n",
    "if client.indices.exists(index=index_name):\n",
    "    client.indices.delete(index=index_name)\n",
    "client.indices.create(index=index_name)\n",
    "\n",
    "with open(\"oura_data_sleep.json\", \"r\") as f:\n",
    "    json_data = json.load(f)\n",
    "    documents = []\n",
    "    for doc in json_data:\n",
    "        documents.append(doc)\n",
    "    load = helpers.bulk(client, documents, index=index_name)"
   ]
  },
  {
   "cell_type": "markdown",
   "metadata": {},
   "source": [
    "We can now search our data! Let's test it out by starting with a very simple data science experiment, looking a bit deeper at the concept of the sleep score calculated by Oura."
   ]
  },
  {
   "cell_type": "markdown",
   "metadata": {},
   "source": [
    "First, we can do a very basic search of getting back the days on which the Oura generated sleep score was the highest"
   ]
  },
  {
   "cell_type": "code",
   "execution_count": 6,
   "metadata": {},
   "outputs": [
    {
     "name": "stdout",
     "output_type": "stream",
     "text": [
      "Day: 2024-09-03 and sleeping score: 93\n",
      "Day: 2024-09-13 and sleeping score: 93\n",
      "Day: 2024-06-28 and sleeping score: 92\n",
      "Day: 2024-08-31 and sleeping score: 92\n",
      "Day: 2024-09-10 and sleeping score: 92\n",
      "Day: 2024-06-23 and sleeping score: 91\n",
      "Day: 2024-08-16 and sleeping score: 91\n",
      "Day: 2024-08-19 and sleeping score: 91\n",
      "Day: 2024-08-21 and sleeping score: 91\n",
      "Day: 2024-08-23 and sleeping score: 91\n"
     ]
    }
   ],
   "source": [
    "index_name = 'oura-history-sleep'\n",
    "\n",
    "response = client.search(index = index_name, sort=\"readiness.score:desc\")\n",
    "\n",
    "for hit in response[\"hits\"][\"hits\"]:\n",
    "    print(\"Day: {day} and sleeping score: {score}\".format(day=hit['_source']['day'], score= hit['_source']['readiness']['score']))"
   ]
  },
  {
   "cell_type": "markdown",
   "metadata": {},
   "source": [
    "We can now use these dates to look a bit closer at the other relevant values that were noted on these data points."
   ]
  },
  {
   "cell_type": "code",
   "execution_count": 37,
   "metadata": {},
   "outputs": [
    {
     "name": "stdout",
     "output_type": "stream",
     "text": [
      "Slept a total of 10.22 hours: 1.8 hours deep sleep, 1.8 hours rem, 0.99 hours awake time\n",
      "Average heart rate: 59.375.\n",
      "Slept a total of 8.98 hours: 1.49 hours deep sleep, 1.49 hours rem, 0.69 hours awake time\n",
      "Average heart rate: 59.125.\n",
      "Slept a total of 9.11 hours: 1.5 hours deep sleep, 1.5 hours rem, 0.88 hours awake time\n",
      "Average heart rate: 58.75.\n",
      "Slept a total of 9.11 hours: 1.51 hours deep sleep, 1.51 hours rem, 0.93 hours awake time\n",
      "Average heart rate: 54.5.\n",
      "Slept a total of 9.41 hours: 1.34 hours deep sleep, 1.34 hours rem, 1.41 hours awake time\n",
      "Average heart rate: 62.375.\n"
     ]
    }
   ],
   "source": [
    "good_days = [\"2024-09-03\", \"2024-09-13\", \"2024-08-31\", \"2024-09-10\", \"2024-06-23\"]\n",
    "\n",
    "for day in good_days:\n",
    "    query = {\n",
    "        \"match\" : {\n",
    "            \"day\" : day\n",
    "        }\n",
    "    }\n",
    "    response = client.search(index = index_name, query=query)\n",
    "\n",
    "    result =  response[\"hits\"][\"hits\"][0][\"_source\"]\n",
    "\n",
    "    print(\"Slept a total of {time} hours: {ds} hours deep sleep, {rem} hours rem, {awake} hours awake time\".format(time=round(result[\"total_sleep_duration\"]/3600,2), ds=round(result[\"deep_sleep_duration\"]/3600, 2), rem=round(result[\"deep_sleep_duration\"]/3600,2), awake=round(result[\"awake_time\"]/3600,2)))\n",
    "    print(\"Average heart rate: {rate}.\".format(rate=result[\"average_heart_rate\"]))\n",
    "\n"
   ]
  },
  {
   "cell_type": "markdown",
   "metadata": {},
   "source": [
    "This follows the intutition that longer deep sleep and a relatively lower heart rate result in a better night of sleep. Based on this first glance at the tiny data subsection, we can come up with an very simple search to mimic our own \"sleep score\".  \n",
    "\n",
    "As a simple example of this, in the following query we filter on higher deep sleep than 1.5 hours, and a lower heart rate than 60. Finally we can also arrange these results by descending REM sleep time.\n",
    "\n",
    "To confirm our assumption, we now look at the associated sleep score with the results we get back on our \"test dataset\"."
   ]
  },
  {
   "cell_type": "code",
   "execution_count": 38,
   "metadata": {},
   "outputs": [
    {
     "name": "stdout",
     "output_type": "stream",
     "text": [
      "Day: 2024-08-15 and sleeping score: 87\n",
      "Day: 2024-09-08 and sleeping score: 85\n",
      "Day: 2024-08-19 and sleeping score: 91\n",
      "Day: 2024-08-18 and sleeping score: 90\n",
      "Day: 2024-08-20 and sleeping score: 90\n",
      "Day: 2024-09-09 and sleeping score: 88\n",
      "Day: 2024-11-09 and sleeping score: 85\n",
      "Day: 2024-09-03 and sleeping score: 93\n",
      "Day: 2024-09-10 and sleeping score: 92\n",
      "Day: 2024-08-14 and sleeping score: 89\n"
     ]
    }
   ],
   "source": [
    "query = {\n",
    "    \"range\" : {\n",
    "        \"deep_sleep_duration\" : {\n",
    "            \"gte\" : 1.5*3600\n",
    "        }\n",
    "    },\n",
    "    \"range\" : {\n",
    "        \"average_heart_rate\":{\n",
    "            \"lte\" : 60\n",
    "        }\n",
    "    }\n",
    "}\n",
    "response = client.search(index = index_name, query=query, sort=\"rem_sleep_duration:desc\")\n",
    "\n",
    "for hit in response[\"hits\"][\"hits\"]:\n",
    "    print(\"Day: {day} and sleeping score: {score}\".format(day=hit['_source']['day'], score= hit['_source']['readiness']['score']))\n"
   ]
  },
  {
   "cell_type": "markdown",
   "metadata": {},
   "source": [
    "This response is consistent with the days we got back on the first search where we filtered by highest sleep score. This confirms our theory that the sleep score formula is probably closely alligned with the variables and filters we naively implemented."
   ]
  },
  {
   "cell_type": "markdown",
   "metadata": {},
   "source": [
    "Finally, we can take a look at more of our data in a comprehensive manner to study the same correlations. Here's an example of a Kibana dashboard we built with our sleep data focusing on the same values:\n",
    "\n",
    "![](kibana.png)"
   ]
  }
 ],
 "metadata": {
  "kernelspec": {
   "display_name": ".venv",
   "language": "python",
   "name": "python3"
  },
  "language_info": {
   "codemirror_mode": {
    "name": "ipython",
    "version": 3
   },
   "file_extension": ".py",
   "mimetype": "text/x-python",
   "name": "python",
   "nbconvert_exporter": "python",
   "pygments_lexer": "ipython3",
   "version": "3.10.0"
  },
  "orig_nbformat": 4
 },
 "nbformat": 4,
 "nbformat_minor": 2
}
